{
 "metadata": {
  "kernelspec": {
   "display_name": "Streamlit Notebook",
   "name": "streamlit"
  },
  "lastEditStatus": {
   "notebookId": "4zf4vaw6azel6app55dv",
   "authorId": "308287954429",
   "authorName": "ADMIN",
   "authorEmail": "prabhath.nanisetty@snowflake.com",
   "sessionId": "45b0e4ba-78fe-49cb-a514-d7643ed0f211",
   "lastEditTime": 1740504580125
  }
 },
 "nbformat_minor": 5,
 "nbformat": 4,
 "cells": [
  {
   "cell_type": "markdown",
   "id": "3bb72494-9a0a-4380-a3f1-041d0d969413",
   "metadata": {
    "name": "INTRO",
    "collapsed": false
   },
   "source": "# Meridian MMM Tutorial in Snowflake Notebooks\n\n[Meridian](https://github.com/google/meridian/tree/main) is an exciting new open-source MMM released by Google and it's a major upgrade to a previous MMM package called [LightweightMMM](https://github.com/google/lightweight_mmm). Both are Bayesian in approach, but there are some major [feature differences](https://developers.google.com/meridian/docs/migrate).\n\nThis notebook will show you how to get this package installed and running inside a Snowflake notebook. There are three major steps:\n\n1. Run the `setup.sql` script, this will set up your environment, create a user role for this project, and other needed Snowflake objects\n2. Create a new Snowflake Notebook, or adjust the settings in this one to get it all working.\n3. Run the Meridian tutorial below\n\nYou can also reference the original tutorial link [here](https://developers.google.com/meridian/notebook/meridian-getting-started)."
  },
  {
   "cell_type": "markdown",
   "id": "a2b0ed0c-66d8-4d5d-a04f-aab1ea2cba7d",
   "metadata": {
    "name": "STEP1_2",
    "collapsed": false
   },
   "source": "## Step 1: Run setup.sql\n\nRun this script in a Snowflake SQL worksheet and make sure you switch to the new Role you just created. Come back to these instructions when complete.\n\n## Step 2: Create a Snowflake Notebook using Container Runtimes\n\nWhen you create a new Notebook, you can follow the settings below. Otherwise, if you find the Notebook Settings option in the top right-hand side, you can follow along.\n\n#### General Tab\n* Select any warehouse\n* Select Run on Container\n* Select \"Snowflake ML Runtime GPU vX.X\"\n* Select your compute pool\n* Pick a low idle time (30mins to 1hour)\n\n#### External Access\n* Turn on any access integrations specified in the setup.sql or...\n* Turn on PYPI_ACCESS_INTEGRATION\n\nYour Notebook will either be created or restarted at this time."
  },
  {
   "cell_type": "markdown",
   "id": "c8e94c39-d3c0-4fe9-8937-a34e72d7d8d9",
   "metadata": {
    "name": "STEP3",
    "collapsed": false
   },
   "source": "## Step 3: Follow the Tutorial below"
  },
  {
   "cell_type": "markdown",
   "id": "daee8462-e8d8-483f-ae59-c16d8ae267b6",
   "metadata": {
    "name": "INSTALL",
    "collapsed": false
   },
   "source": "### Install and Load Packages"
  },
  {
   "cell_type": "code",
   "id": "3775908f-ca36-4846-8f38-5adca39217f2",
   "metadata": {
    "language": "python",
    "name": "pkg_install",
    "collapsed": true,
    "codeCollapsed": false
   },
   "source": "# Install Required Packages\n\n# Note: There are pandas bugs in Meridian v1.0.0, so we need to use v1.0.2 which has to be installed from github.\n# Unfortunately v1.0.2 requires Python 3.11, but Snowflake Container Runtime Notebooks are currently limited to 3.10,\n# so we simply have to pass the `--ignore-requires-python` parameter to the pip installer. The initial tutorial\n# runs fine using Python 3.10.\n\n!pip install --ignore-requires-python google-meridian[and-cuda]@git+https://github.com/google/meridian@v1.0.2",
   "execution_count": null,
   "outputs": []
  },
  {
   "cell_type": "code",
   "id": "496775ca-a2d8-4440-9131-01f0aa076ed0",
   "metadata": {
    "language": "python",
    "name": "pkg_imports",
    "collapsed": false
   },
   "outputs": [],
   "source": "# Package Imports\n\nimport warnings\nimport tempfile\nimport arviz as az\nimport pandas as pd\nimport streamlit as st\nimport tensorflow as tf\nimport tensorflow_probability as tfp\nfrom psutil import virtual_memory\nfrom meridian import constants\nfrom meridian.data import load\nfrom meridian.model import model, spec, prior_distribution\nfrom meridian.analysis import optimizer, visualizer, summarizer\n\nwarnings.filterwarnings('ignore')",
   "execution_count": null
  },
  {
   "cell_type": "code",
   "id": "abbeb3cd-e9ee-4ca9-acd8-f75f17b30cbe",
   "metadata": {
    "language": "python",
    "name": "mem_check",
    "collapsed": false
   },
   "outputs": [],
   "source": "# Check GPU memory\nram_gb = virtual_memory().total / 1e9\nprint(f'Your runtime has {ram_gb} gigabytes of available RAM\\n')\nprint(\"Num GPUs Available: \", len(tf.config.experimental.list_physical_devices('GPU')))\nprint(\"Num CPUs Available: \", len(tf.config.experimental.list_physical_devices('CPU')))",
   "execution_count": null
  },
  {
   "cell_type": "markdown",
   "id": "550f548e-b7a1-44c0-a8c9-511129567afb",
   "metadata": {
    "name": "DATAPREP",
    "collapsed": false
   },
   "source": "### Map Data Columns to Meridian Inputs\n\nWe will use the `load.CoordToColumns()` function to map all the relevant column names to the appropriate inputs required by the Meridian model. Next we will use the two dictionaries, `media_to_channel` and `media_spend_to_channel` dictionaries to map the various impression and spend data to the corresponding media channels.\n\n\nWe will then load the [provided tutorial data](https://github.com/google/meridian/blob/main/meridian/data/simulated_data/csv/geo_all_channels.csv) into this Notebook using the \"+\" sign under the File browser. We will use the Meridian-provided function `load.DataFrameDataLoader()` to load pandas dataframes into the model."
  },
  {
   "cell_type": "code",
   "id": "e4ff2df5-2f38-4502-a191-22047131f07e",
   "metadata": {
    "language": "python",
    "name": "data_map",
    "collapsed": false
   },
   "outputs": [],
   "source": "# Define all the column mapping to Meridian data spec\ncoord_to_columns = load.CoordToColumns(\n    time='time',\n    geo='geo',\n    controls=['GQV', 'Competitor_Sales'],\n    population='population',\n    kpi='conversions',\n    revenue_per_kpi='revenue_per_conversion',\n    media=[\n        'Channel0_impression',\n        'Channel1_impression',\n        'Channel2_impression',\n        'Channel3_impression',\n        'Channel4_impression',\n    ],\n    media_spend=[\n        'Channel0_spend',\n        'Channel1_spend',\n        'Channel2_spend',\n        'Channel3_spend',\n        'Channel4_spend',\n    ],\n    organic_media=['Organic_channel0_impression'],\n    non_media_treatments=['Promo']\n)\n\nmedia_to_channel = {\n    'Channel0_impression': 'Channel0',  # Edited vs tutorial \n    'Channel1_impression': 'Channel1',  # Edited vs tutorial\n    'Channel2_impression': 'Channel2',  # Edited vs tutorial\n    'Channel3_impression': 'Channel3',  # Edited vs tutorial\n    'Channel4_impression': 'Channel4',  # Edited vs tutorial\n    'Organic_channel0_impression': 'Channel0'  # Edited vs tutorial\n}\n\n# organic_media_to_channel = {\n#     'Organic_channel0_impression': 'Channel0'\n# }\n\nmedia_spend_to_channel = {\n    'Channel0_spend': 'Channel0',  # Edited vs tutorial\n    'Channel1_spend': 'Channel1',  # Edited vs tutorial\n    'Channel2_spend': 'Channel2',  # Edited vs tutorial\n    'Channel3_spend': 'Channel3',  # Edited vs tutorial\n    'Channel4_spend': 'Channel4',  # Edited vs tutorial\n}",
   "execution_count": null
  },
  {
   "cell_type": "code",
   "id": "56998778-c9f1-4360-a39a-e2ca4aac691a",
   "metadata": {
    "language": "python",
    "name": "data_csv",
    "collapsed": false
   },
   "outputs": [],
   "source": "# Load data from CSV (provided in tutorial). Load into Notebook space on LHS using the '+' symbol.\ndf = pd.read_csv('geo_all_channels.csv', index_col=0)",
   "execution_count": null
  },
  {
   "cell_type": "code",
   "id": "c482688c-4dac-41eb-988c-3694459f5977",
   "metadata": {
    "language": "python",
    "name": "data_dfloader",
    "collapsed": false,
    "codeCollapsed": false
   },
   "outputs": [],
   "source": "# Load from dataframe\ndata_loader = load.DataFrameDataLoader(\n    df=df,\n    coord_to_columns=coord_to_columns,\n    kpi_type='non_revenue',\n    media_to_channel=media_to_channel,\n    media_spend_to_channel=media_spend_to_channel,\n    # organic_media_to_channel=organic_media_to_channel,  # Doesn't seem to be implemented?\n)\n\ndata = data_loader.load()",
   "execution_count": null
  },
  {
   "cell_type": "markdown",
   "id": "eba5c2e7-3e0a-4d2c-808e-9da07dc495ad",
   "metadata": {
    "name": "CREATEMODEL",
    "collapsed": false
   },
   "source": "### Create Model"
  },
  {
   "cell_type": "code",
   "id": "6d20e38b-be03-496f-bd1c-a5cff66b04fe",
   "metadata": {
    "language": "python",
    "name": "model_priors",
    "collapsed": false
   },
   "outputs": [],
   "source": "# Define your prior distribution - either as a single-value or by-channel\n\n# # Mu and Sigms for all channels, single-value\nroi_mu = 0.2     # Mu for ROI prior for each media channel.\nroi_sigma = 0.9  # Sigma for ROI prior for each media channel.\n\n# Mu and Sigma for each channel, warning this may not converge!\n# roi_mu    = [0.2, 0.3, 0.4, 0.3, 0.3]\n# roi_sigma = [0.7, 0.9, 0.6, 0.7, 0.6]\n\nprior = prior_distribution.PriorDistribution(\n    roi_m=tfp.distributions.LogNormal(roi_mu, roi_sigma, name=constants.ROI_M)\n)",
   "execution_count": null
  },
  {
   "cell_type": "code",
   "id": "7b414dbc-6fe6-4c6f-8407-24e46a528134",
   "metadata": {
    "language": "python",
    "name": "model_specs",
    "collapsed": false
   },
   "outputs": [],
   "source": "# Define your model specifications. Full set of options is commented out below.\n\n# Simple Model Spec\nmodel_spec = spec.ModelSpec(prior=prior)\n\n# Full Model Spec\n# More details here: https://developers.google.com/meridian/docs/user-guide/configure-model\n# model_spec = spec.ModelSpec(\n#     prior=prior,\n#     media_effects_dist='log_normal',\n#     hill_before_adstock=False,\n#     max_lag=8,\n#     unique_sigma_for_each_geo=False,\n#     paid_media_prior_type='roi',\n#     roi_calibration_period=None,\n#     rf_roi_calibration_period=None,\n#     knots=None,  # 1=No Seasonality adjustment\n#     baseline_geo=None,\n#     holdout_id=None,\n#     control_population_scaling_id=None,\n# )",
   "execution_count": null
  },
  {
   "cell_type": "code",
   "id": "6497dce1-031d-456b-93bc-a67187ffeb76",
   "metadata": {
    "language": "python",
    "name": "model_sampling",
    "collapsed": false,
    "codeCollapsed": false
   },
   "outputs": [],
   "source": "mmm = model.Meridian(input_data=data, model_spec=model_spec)\nmmm.sample_prior(500)\nmmm.sample_posterior(n_chains=7, n_adapt=500, n_burnin=500, n_keep=1000)",
   "execution_count": null
  },
  {
   "cell_type": "markdown",
   "id": "e21907a1-0051-46ac-b573-56281588587a",
   "metadata": {
    "name": "DIAGNOSE",
    "collapsed": false
   },
   "source": "### Review Model Diagnostics\n"
  },
  {
   "cell_type": "code",
   "id": "e96b144e-c769-4474-b7f3-07fbdd33cc0d",
   "metadata": {
    "language": "python",
    "name": "model_diag",
    "collapsed": false
   },
   "outputs": [],
   "source": "model_diagnostics = visualizer.ModelDiagnostics(mmm)\nrhat_chart = model_diagnostics.plot_rhat_boxplot()\nrhat_chart['width'] = 800\nrhat_chart",
   "execution_count": null
  },
  {
   "cell_type": "code",
   "id": "0b28b3d8-57a4-4a22-b5b9-0a4e414d625b",
   "metadata": {
    "language": "python",
    "name": "diag_roi"
   },
   "outputs": [],
   "source": "parameters_to_plot=[\"roi_m\"]\nfor params in parameters_to_plot:\n  az.plot_trace(\n      mmm.inference_data,\n      var_names=params,\n      compact=False,\n      backend_kwargs={\"constrained_layout\": True},\n  )",
   "execution_count": null
  },
  {
   "cell_type": "code",
   "id": "03e769ee-22c0-43e7-b7df-eee907c9df16",
   "metadata": {
    "language": "python",
    "name": "diag_priors"
   },
   "outputs": [],
   "source": "model_diagnostics.plot_prior_and_posterior_distribution()",
   "execution_count": null
  },
  {
   "cell_type": "code",
   "id": "40ae6f31-32ae-48ad-b8f9-680aa259c157",
   "metadata": {
    "language": "python",
    "name": "diag_prediction"
   },
   "outputs": [],
   "source": "model_diagnostics.predictive_accuracy_table()",
   "execution_count": null
  },
  {
   "cell_type": "code",
   "id": "84053643-3166-43f6-a799-918ac89f44e4",
   "metadata": {
    "language": "python",
    "name": "model_fits",
    "collapsed": false
   },
   "outputs": [],
   "source": "model_fit = visualizer.ModelFit(mmm)\nfit_chart = model_fit.plot_model_fit()\nfit_chart['width'] = 800\nfit_chart",
   "execution_count": null
  },
  {
   "cell_type": "code",
   "id": "ba3fca6e-fd40-46bb-b14a-51fb9a23b5d9",
   "metadata": {
    "language": "python",
    "name": "fit_geo"
   },
   "outputs": [],
   "source": "model_fit.plot_model_fit(\n    n_top_largest_geos=2,\n    show_geo_level=True,\n    include_baseline=False,\n    include_ci=False\n)",
   "execution_count": null
  },
  {
   "cell_type": "markdown",
   "id": "be0ba5bd-3178-42da-9356-db6af89a1634",
   "metadata": {
    "name": "SUMMARIZE",
    "collapsed": false
   },
   "source": "### Review Model Summaries"
  },
  {
   "cell_type": "code",
   "id": "7f2d5da0-583c-4216-9121-01b851988bb7",
   "metadata": {
    "language": "python",
    "name": "model_summary",
    "collapsed": false
   },
   "outputs": [],
   "source": "mmm_summarizer = summarizer.Summarizer(mmm)\n\nstart_date = '2021-01-25'\nend_date = '2024-01-15'\n\n# Create a temporary directory to save the resulting output files.\ntmpdir = tempfile.mkdtemp()",
   "execution_count": null
  },
  {
   "cell_type": "code",
   "id": "0cb0f1db-1e02-48c0-af40-59b2b5909d59",
   "metadata": {
    "language": "python",
    "name": "report_summary",
    "collapsed": false,
    "codeCollapsed": false
   },
   "outputs": [],
   "source": "mmm_summarizer.output_model_results_summary('summary_output.html', tmpdir, start_date, end_date)\n\n# Export to file\nf = open(tmpdir + '/summary_output.html', 'r') \nst.download_button('download', f, 'summary_output.html', mime=\"text/html\")",
   "execution_count": null
  },
  {
   "cell_type": "code",
   "id": "3db882aa-620a-421c-895f-5a551dde5430",
   "metadata": {
    "language": "python",
    "name": "media_summ"
   },
   "outputs": [],
   "source": "media_summary = visualizer.MediaSummary(mmm)\nmedia_summary.summary_table()",
   "execution_count": null
  },
  {
   "cell_type": "code",
   "id": "cb22873d-32a3-4034-8360-09a9a4a09370",
   "metadata": {
    "language": "python",
    "name": "charts"
   },
   "outputs": [],
   "source": "# Other Available Plots and Tables (just run an individual line and comment all others)\n# media_summary.plot_contribution_waterfall_chart()\n# media_summary.plot_contribution_pie_chart()\n# media_summary.plot_spend_vs_contribution()\n# media_summary.plot_roi_bar_chart()\n# media_summary.plot_roi_bar_chart(include_ci=False)\n# media_summary.plot_cpik()\n# media_summary.plot_roi_vs_effectiveness()\n# media_summary.plot_roi_vs_effectiveness(disable_size=True)\n# media_summary.plot_roi_vs_mroi()\nmedia_summary.plot_roi_vs_mroi(selected_channels=[\"Channel1\", \"Channel4\"], equal_axes=True)",
   "execution_count": null
  },
  {
   "cell_type": "code",
   "id": "1fa00c7c-8a76-4aa4-939c-e1e66f2ebf6a",
   "metadata": {
    "language": "python",
    "name": "media_effects_indiv"
   },
   "outputs": [],
   "source": "# Plot media effects (incremental outcome vs spend)\nmedia_effects = visualizer.MediaEffects(mmm)\n\n# Plot all charts together\nmedia_effects.plot_response_curves()\n\n# Plot 1 chart, top 1\nmedia_effects.plot_response_curves(plot_separately=False, num_channels_displayed=1)\n\n# Plot each chart individually\nmedia_effects.plot_response_curves(plot_separately=False, include_ci=False)",
   "execution_count": null
  },
  {
   "cell_type": "code",
   "id": "54934825-d8ee-469d-847f-c07619b932e9",
   "metadata": {
    "language": "python",
    "name": "media_adstock"
   },
   "outputs": [],
   "source": "media_effects.plot_adstock_decay()",
   "execution_count": null
  },
  {
   "cell_type": "code",
   "id": "48a2d19b-f8c6-4f7f-84eb-d817015f9acf",
   "metadata": {
    "language": "python",
    "name": "media_hill_curves"
   },
   "outputs": [],
   "source": "media_effects.plot_hill_curves()",
   "execution_count": null
  },
  {
   "cell_type": "code",
   "id": "02bf5445-4c53-4b6b-a8dd-9854fcf30637",
   "metadata": {
    "language": "python",
    "name": "media_reachfreq"
   },
   "outputs": [],
   "source": "# Model Reach & Frequency\n# NOTE: WILL NOT RUN IN THIS DEMO AS WE DO NOT HAVE REACH AND FREQ IN OUR DATASET\nreach_and_frequency = visualizer.ReachAndFrequency(mmm)\nreach_and_frequency.plot_optimal_frequency()",
   "execution_count": null
  },
  {
   "cell_type": "markdown",
   "id": "7330c5c0-71d1-44e6-ae6f-cda8744ffcc5",
   "metadata": {
    "name": "OPTIMIZE",
    "collapsed": false
   },
   "source": "### Run Simulations and Optimizations"
  },
  {
   "cell_type": "code",
   "id": "efc47a44-009e-46e0-8b26-5be46dfd1e0c",
   "metadata": {
    "language": "python",
    "name": "model_optimize",
    "collapsed": false
   },
   "outputs": [],
   "source": "budget_optimizer = optimizer.BudgetOptimizer(mmm)\n\n# Optimize without constraints\noptimization_results = budget_optimizer.optimize()",
   "execution_count": null
  },
  {
   "cell_type": "code",
   "id": "c24b0b45-b9be-438f-8894-36e052000773",
   "metadata": {
    "language": "python",
    "name": "optimize_fixed"
   },
   "outputs": [],
   "source": "# Optimize with constraints - Fixed Budget\noptimization_results = budget_optimizer.optimize(\n      selected_times=('2023-01-16', '2024-01-15'),\n      budget=70000000,\n      pct_of_spend=[0.2, 0.2, 0.2, 0.1, 0.3],\n      spend_constraint_lower=[0.3, 0.2, 0.3, 0.3, 0.3],\n      spend_constraint_upper=[0.3, 0.2, 0.3, 0.3, 0.3],\n)",
   "execution_count": null
  },
  {
   "cell_type": "code",
   "id": "362286cd-5a8d-473b-bb92-2a9ac471ca49",
   "metadata": {
    "language": "python",
    "name": "optimize_roi"
   },
   "outputs": [],
   "source": "# Optimize with constraints - Target Minimum ROI\noptimization_results = budget_optimizer.optimize(\n      selected_times=('2023-01-16','2024-01-15'),\n      fixed_budget=False,\n      spend_constraint_lower=0.5,\n      spend_constraint_upper=0.5,\n      target_roi=1,\n)",
   "execution_count": null
  },
  {
   "cell_type": "code",
   "id": "bfd8c0a8-ddf2-43f2-ab4b-95645b4156de",
   "metadata": {
    "language": "python",
    "name": "optimize_mroi"
   },
   "outputs": [],
   "source": "# Optimize with constraints - Target Marginal ROI\noptimization_results = budget_optimizer.optimize(\n      selected_times=('2023-01-16','2024-01-15'),\n      fixed_budget=False,\n      spend_constraint_lower=0.5,\n      spend_constraint_upper=0.5,\n      target_mroi=1,\n)",
   "execution_count": null
  },
  {
   "cell_type": "code",
   "id": "3cbc423f-0440-439b-9ffe-c6b55e399ffc",
   "metadata": {
    "language": "python",
    "name": "optimize_charts"
   },
   "outputs": [],
   "source": "# Other Available Plots and Tables (just run an individual line and comment all others)\noptimization_results.plot_spend_delta()\noptimization_results.plot_incremental_impact_delta()\noptimization_results.plot_budget_allocation()\noptimization_results.plot_response_curves()\n",
   "execution_count": null
  },
  {
   "cell_type": "code",
   "id": "2dbc6093-52bc-4da9-9e26-aec5d47a1e20",
   "metadata": {
    "language": "python",
    "name": "report_optimize",
    "collapsed": false
   },
   "outputs": [],
   "source": "optimization_results.output_optimization_summary('optimization_output.html', tmpdir)\n\nf = open(tmpdir + '/optimization_output.html', 'r') \nst.download_button('download',f, 'optimization_output.html', mime=\"text/html\")",
   "execution_count": null
  },
  {
   "cell_type": "markdown",
   "id": "217462e5-f01e-4d69-9ed0-c9bad459501e",
   "metadata": {
    "name": "ADVANCED_DIAG",
    "collapsed": false
   },
   "source": "### Advanced Diagnostics"
  },
  {
   "cell_type": "code",
   "id": "29a585fe-9ddf-4f0b-aae6-b989580af023",
   "metadata": {
    "language": "python",
    "name": "results_nonopt"
   },
   "outputs": [],
   "source": "optimization_results.nonoptimized_data",
   "execution_count": null
  },
  {
   "cell_type": "code",
   "id": "0b48b92c-d2b3-4c79-96af-3cf3b46b1c87",
   "metadata": {
    "language": "python",
    "name": "results_opt"
   },
   "outputs": [],
   "source": "optimization_results.optimized_data",
   "execution_count": null
  },
  {
   "cell_type": "markdown",
   "id": "ada58d2d-5c5c-4302-a7e8-783999d9666a",
   "metadata": {
    "name": "SAVEMODEL",
    "collapsed": false
   },
   "source": "### Save Model For Later"
  },
  {
   "cell_type": "code",
   "id": "4b4af184-e8c2-471a-9c23-18afe9132cbc",
   "metadata": {
    "language": "python",
    "name": "model_save"
   },
   "outputs": [],
   "source": "file_path= tmpdir + '/saved_mmm.pkl'\nmodel.save_mmm(mmm, file_path)",
   "execution_count": null
  },
  {
   "cell_type": "code",
   "id": "18f00318-cbcd-4549-a533-7300d6b1b3a7",
   "metadata": {
    "language": "python",
    "name": "model_load"
   },
   "outputs": [],
   "source": "mmm = model.load_mmm(file_path)",
   "execution_count": null
  }
 ]
}